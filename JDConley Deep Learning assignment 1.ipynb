{
 "cells": [
  {
   "cell_type": "code",
   "execution_count": null,
   "id": "88ae4b72",
   "metadata": {},
   "outputs": [],
   "source": [
    "#1. Write a python program for the following:\n",
    "#– Input the string “Python” as a list of characters from console, delete at least 2 characters, reverse the \n",
    "#resultant string and print it.\n",
    "#Sample input:\n",
    "#•python\n",
    "#•Sample output:\n",
    "#•ntyp\n",
    "# – Take two numbers from user and perform at least 4 arithmetic operations on them.\n",
    "#2. Write a program that accepts a sentence and replace each occurrence of ‘python’ with ‘pythons’.\n",
    "#•Sample input:\n",
    "#•I love playing with python\n",
    "#•Sample output:\n",
    "#•I love playing with pythons\n",
    "#3. Use the if statement conditions to write a program to print the letter grade based on an input class score. Use \n",
    "#the grading scheme we are using in this class.\n",
    "#** Follow the IPC rubric guidelines.\n",
    "#Submission Guidelines:\n",
    "#1. Once finished present your work during class time.\n",
    "#2. Once completed submit your source code and documentation to GitHub and represent the work in a \n",
    "#ReadMe file properly (short summary for the ICP).\n",
    "#After class submission:\n",
    "#1. Complete your work and submit to your repo before the deadline.\n",
    "#2. Record a short video (1~3) minute, explaining the technical part and method used.\n",
    "#3. Add video link to ReadMe file."
   ]
  },
  {
   "cell_type": "code",
   "execution_count": 11,
   "id": "e73fe4bb",
   "metadata": {},
   "outputs": [],
   "source": [
    "import random"
   ]
  },
  {
   "cell_type": "code",
   "execution_count": 54,
   "id": "63e7d24d",
   "metadata": {},
   "outputs": [
    {
     "data": {
      "text/plain": [
       "'nohp'"
      ]
     },
     "execution_count": 54,
     "metadata": {},
     "output_type": "execute_result"
    }
   ],
   "source": [
    "#1\n",
    "var1 = ['p','y','t','h','o','n']\n",
    "var2 = random.randint(0, 5)\n",
    "var3 = random.randint(0, 4)\n",
    "del(var1[var2])\n",
    "del(var1[var3])\n",
    "var1.reverse()\n",
    "var4 = \"\".join([str(var5) for var5 in var1])\n",
    "var4"
   ]
  },
  {
   "cell_type": "code",
   "execution_count": 55,
   "id": "cf1e5c7a",
   "metadata": {},
   "outputs": [
    {
     "name": "stdout",
     "output_type": "stream",
     "text": [
      "Input two integers\n",
      "4\n",
      "7\n",
      "addition of 4 and 7 is 11\n",
      "subtraction of 4 and 7 is -3\n",
      "multiplication of 4 and 7 is 28\n",
      "division of 4 and 7 is 0.5714285714285714\n"
     ]
    }
   ],
   "source": [
    "print(\"Input two integers\")\n",
    "input1 = input()\n",
    "input1 = int(input1)\n",
    "input2 = input()\n",
    "input2 = int(input2)\n",
    "var6 = input1 + input2\n",
    "var7 = input1 - input2\n",
    "var8 = input1 * input2\n",
    "var9 = input1 / input2\n",
    "print(\"addition of \" + str(input1) + \" and \" + str(input2) + \" is \" + str(var6))\n",
    "print(\"subtraction of \" + str(input1) + \" and \" + str(input2) + \" is \" + str(var7))\n",
    "print(\"multiplication of \" + str(input1) + \" and \" + str(input2) + \" is \" + str(var8))\n",
    "print(\"division of \" + str(input1) + \" and \" + str(input2) + \" is \" + str(var9))"
   ]
  },
  {
   "cell_type": "code",
   "execution_count": 56,
   "id": "d4799859",
   "metadata": {},
   "outputs": [
    {
     "name": "stdout",
     "output_type": "stream",
     "text": [
      "Input a sentence containing the word 'python'\n",
      "A python uses Python to chat with other pythons\n"
     ]
    },
    {
     "data": {
      "text/plain": [
       "'A pythons uses Pythons to chat with other pythons'"
      ]
     },
     "execution_count": 56,
     "metadata": {},
     "output_type": "execute_result"
    }
   ],
   "source": [
    "#2\n",
    "print(\"Input a sentence containing the word 'python'\")\n",
    "input3 = input()\n",
    "var10 = input3.replace(\"python\",\"pythons\")\n",
    "var10 = var10.replace(\"Python\",\"Pythons\")\n",
    "var10 = var10.replace(\"pythonss\",\"pythons\")\n",
    "var10 = var10.replace(\"Pythonss\",\"Pythons\")\n",
    "var10"
   ]
  },
  {
   "cell_type": "code",
   "execution_count": 59,
   "id": "f005dbb9",
   "metadata": {},
   "outputs": [
    {
     "name": "stdout",
     "output_type": "stream",
     "text": [
      "Input a grade number from 0 to 100\n",
      "107\n",
      "INVALID GRADE, YOU GET A Q\n"
     ]
    }
   ],
   "source": [
    "#3\n",
    "print(\"Input a grade number from 0 to 100\")\n",
    "input4 = input()\n",
    "input4 = float(input4)\n",
    "if 100 >= input4 >= 90:\n",
    "    print('A')\n",
    "elif 89 >= input4 >= 80:\n",
    "    print('B')\n",
    "elif 79 >= input4 >= 70:\n",
    "    print('C')\n",
    "elif 69 >= input4 >= 60:\n",
    "    print('D')\n",
    "elif 59 >= input4 >= 0:\n",
    "    print('F')\n",
    "else:\n",
    "    print('INVALID GRADE, YOU GET A Q')"
   ]
  },
  {
   "cell_type": "code",
   "execution_count": null,
   "id": "3623ea40",
   "metadata": {},
   "outputs": [],
   "source": []
  }
 ],
 "metadata": {
  "kernelspec": {
   "display_name": "Python 3 (ipykernel)",
   "language": "python",
   "name": "python3"
  },
  "language_info": {
   "codemirror_mode": {
    "name": "ipython",
    "version": 3
   },
   "file_extension": ".py",
   "mimetype": "text/x-python",
   "name": "python",
   "nbconvert_exporter": "python",
   "pygments_lexer": "ipython3",
   "version": "3.9.13"
  }
 },
 "nbformat": 4,
 "nbformat_minor": 5
}
